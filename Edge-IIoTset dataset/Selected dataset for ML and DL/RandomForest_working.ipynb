{
  "cells": [
    {
      "cell_type": "code",
      "execution_count": 1,
      "metadata": {
        "execution": {
          "iopub.execute_input": "2022-03-21T18:18:13.102499Z",
          "iopub.status.busy": "2022-03-21T18:18:13.101778Z",
          "iopub.status.idle": "2022-03-21T18:18:13.231434Z",
          "shell.execute_reply": "2022-03-21T18:18:13.230789Z",
          "shell.execute_reply.started": "2022-03-21T18:18:13.102464Z"
        },
        "id": "Ku9h4UTT4xS6"
      },
      "outputs": [],
      "source": [
        "import pandas as pd\n",
        "import numpy as np\n",
        "from matplotlib import pyplot as plt\n",
        "import seaborn as sns"
      ]
    },
    {
      "cell_type": "code",
      "execution_count": 2,
      "metadata": {
        "colab": {
          "base_uri": "https://localhost:8080/"
        },
        "execution": {
          "iopub.execute_input": "2022-03-21T18:18:13.960709Z",
          "iopub.status.busy": "2022-03-21T18:18:13.960017Z",
          "iopub.status.idle": "2022-03-21T18:18:39.757294Z",
          "shell.execute_reply": "2022-03-21T18:18:39.756565Z",
          "shell.execute_reply.started": "2022-03-21T18:18:13.960664Z"
        },
        "id": "PSd8Rovb4xS7",
        "outputId": "9c3e0b71-7bf9-47ea-cd22-9213c3597f7a"
      },
      "outputs": [
        {
          "output_type": "stream",
          "name": "stdout",
          "text": [
            "(152232, 77)\n"
          ]
        }
      ],
      "source": [
        "df = pd.read_csv('preprocessed_ML.csv', low_memory=False) \n",
        "print(df.shape)"
      ]
    },
    {
      "cell_type": "code",
      "execution_count": 3,
      "metadata": {
        "colab": {
          "base_uri": "https://localhost:8080/"
        },
        "execution": {
          "iopub.execute_input": "2022-03-21T18:18:39.75936Z",
          "iopub.status.busy": "2022-03-21T18:18:39.758929Z",
          "iopub.status.idle": "2022-03-21T18:18:39.950729Z",
          "shell.execute_reply": "2022-03-21T18:18:39.949889Z",
          "shell.execute_reply.started": "2022-03-21T18:18:39.759321Z"
        },
        "id": "9TMnCZuD4xS9",
        "outputId": "a445410e-8298-4a56-ebbc-57a5c2b2ae48"
      },
      "outputs": [
        {
          "output_type": "execute_result",
          "data": {
            "text/plain": [
              "Normal                   24125\n",
              "DDoS_UDP                 14498\n",
              "DDoS_ICMP                13096\n",
              "DDoS_HTTP                10495\n",
              "SQL_injection            10282\n",
              "DDoS_TCP                 10247\n",
              "Uploading                10214\n",
              "Vulnerability_scanner    10062\n",
              "Password                  9972\n",
              "Backdoor                  9865\n",
              "Ransomware                9689\n",
              "XSS                       9552\n",
              "Port_Scanning             8924\n",
              "Fingerprinting             853\n",
              "MITM                       358\n",
              "Name: Attack_type, dtype: int64"
            ]
          },
          "metadata": {},
          "execution_count": 3
        }
      ],
      "source": [
        "df['Attack_type'].value_counts()"
      ]
    },
    {
      "cell_type": "code",
      "execution_count": 4,
      "metadata": {
        "colab": {
          "base_uri": "https://localhost:8080/"
        },
        "id": "Npp4FsJnhaIq",
        "outputId": "4a7039ce-88f2-470e-d409-1785aab39688"
      },
      "outputs": [
        {
          "output_type": "stream",
          "name": "stdout",
          "text": [
            "15\n"
          ]
        }
      ],
      "source": [
        "num_classes = df['Attack_type'].nunique()\n",
        "print(num_classes)"
      ]
    },
    {
      "cell_type": "code",
      "execution_count": 5,
      "metadata": {
        "colab": {
          "base_uri": "https://localhost:8080/"
        },
        "execution": {
          "iopub.execute_input": "2022-03-21T18:18:39.952523Z",
          "iopub.status.busy": "2022-03-21T18:18:39.952256Z",
          "iopub.status.idle": "2022-03-21T18:18:39.970812Z",
          "shell.execute_reply": "2022-03-21T18:18:39.970115Z",
          "shell.execute_reply.started": "2022-03-21T18:18:39.952488Z"
        },
        "id": "jVpQiEy64xS-",
        "outputId": "09a3b6f0-563d-488f-f373-015bd010df74"
      },
      "outputs": [
        {
          "output_type": "stream",
          "name": "stdout",
          "text": [
            "<class 'pandas.core.frame.DataFrame'>\n",
            "RangeIndex: 152232 entries, 0 to 152231\n",
            "Data columns (total 77 columns):\n",
            " #   Column                                                                             Non-Null Count   Dtype  \n",
            "---  ------                                                                             --------------   -----  \n",
            " 0   Unnamed: 0                                                                         152232 non-null  int64  \n",
            " 1   arp.opcode                                                                         152232 non-null  float64\n",
            " 2   arp.hw.size                                                                        152232 non-null  float64\n",
            " 3   icmp.checksum                                                                      152232 non-null  float64\n",
            " 4   icmp.seq_le                                                                        152232 non-null  float64\n",
            " 5   icmp.unused                                                                        152232 non-null  float64\n",
            " 6   http.content_length                                                                152232 non-null  float64\n",
            " 7   http.response                                                                      152232 non-null  float64\n",
            " 8   http.tls_port                                                                      152232 non-null  float64\n",
            " 9   tcp.ack                                                                            152232 non-null  float64\n",
            " 10  tcp.ack_raw                                                                        152232 non-null  float64\n",
            " 11  tcp.checksum                                                                       152232 non-null  float64\n",
            " 12  tcp.connection.fin                                                                 152232 non-null  float64\n",
            " 13  tcp.connection.rst                                                                 152232 non-null  float64\n",
            " 14  tcp.connection.syn                                                                 152232 non-null  float64\n",
            " 15  tcp.connection.synack                                                              152232 non-null  float64\n",
            " 16  tcp.flags                                                                          152232 non-null  float64\n",
            " 17  tcp.flags.ack                                                                      152232 non-null  float64\n",
            " 18  tcp.len                                                                            152232 non-null  float64\n",
            " 19  tcp.seq                                                                            152232 non-null  float64\n",
            " 20  udp.stream                                                                         152232 non-null  float64\n",
            " 21  udp.time_delta                                                                     152232 non-null  float64\n",
            " 22  dns.qry.name                                                                       152232 non-null  float64\n",
            " 23  dns.qry.qu                                                                         152232 non-null  float64\n",
            " 24  dns.qry.type                                                                       152232 non-null  float64\n",
            " 25  dns.retransmission                                                                 152232 non-null  float64\n",
            " 26  dns.retransmit_request                                                             152232 non-null  float64\n",
            " 27  dns.retransmit_request_in                                                          152232 non-null  float64\n",
            " 28  mqtt.conflag.cleansess                                                             152232 non-null  float64\n",
            " 29  mqtt.conflags                                                                      152232 non-null  float64\n",
            " 30  mqtt.hdrflags                                                                      152232 non-null  float64\n",
            " 31  mqtt.len                                                                           152232 non-null  float64\n",
            " 32  mqtt.msg_decoded_as                                                                152232 non-null  float64\n",
            " 33  mqtt.msgtype                                                                       152232 non-null  float64\n",
            " 34  mqtt.proto_len                                                                     152232 non-null  float64\n",
            " 35  mqtt.topic_len                                                                     152232 non-null  float64\n",
            " 36  mqtt.ver                                                                           152232 non-null  float64\n",
            " 37  mbtcp.len                                                                          152232 non-null  float64\n",
            " 38  mbtcp.trans_id                                                                     152232 non-null  float64\n",
            " 39  mbtcp.unit_id                                                                      152232 non-null  float64\n",
            " 40  Attack_label                                                                       152232 non-null  int64  \n",
            " 41  Attack_type                                                                        152232 non-null  object \n",
            " 42  http.request.method-0.0                                                            152232 non-null  int64  \n",
            " 43  http.request.method-0                                                              152232 non-null  int64  \n",
            " 44  http.request.method-GET                                                            152232 non-null  int64  \n",
            " 45  http.request.method-OPTIONS                                                        152232 non-null  int64  \n",
            " 46  http.request.method-POST                                                           152232 non-null  int64  \n",
            " 47  http.request.method-TRACE                                                          152232 non-null  int64  \n",
            " 48  http.referer-0.0                                                                   152232 non-null  int64  \n",
            " 49  http.referer-() { _; } >_[$($())] { echo 93e4r0-CVE-2014-6278: true; echo;echo; }  152232 non-null  int64  \n",
            " 50  http.referer-0                                                                     152232 non-null  int64  \n",
            " 51  http.referer-127.0.0.1                                                             152232 non-null  int64  \n",
            " 52  http.request.version-0.0                                                           152232 non-null  int64  \n",
            " 53  http.request.version--a HTTP/1.1                                                   152232 non-null  int64  \n",
            " 54  http.request.version-/etc/passwd|?data=Download HTTP/1.1                           152232 non-null  int64  \n",
            " 55  http.request.version-0                                                             152232 non-null  int64  \n",
            " 56  http.request.version-By Dr HTTP/1.1                                                152232 non-null  int64  \n",
            " 57  http.request.version-HTTP/1.0                                                      152232 non-null  int64  \n",
            " 58  http.request.version-HTTP/1.1                                                      152232 non-null  int64  \n",
            " 59  http.request.version-Src=javascript:alert('Vulnerable')><Img Src=\\\" HTTP/1.1       152232 non-null  int64  \n",
            " 60  dns.qry.name.len-0.0                                                               152232 non-null  int64  \n",
            " 61  dns.qry.name.len-1.0                                                               152232 non-null  int64  \n",
            " 62  dns.qry.name.len-0                                                                 152232 non-null  int64  \n",
            " 63  dns.qry.name.len-0.debian.pool.ntp.org                                             152232 non-null  int64  \n",
            " 64  dns.qry.name.len-1.debian.pool.ntp.org                                             152232 non-null  int64  \n",
            " 65  dns.qry.name.len-2.debian.pool.ntp.org                                             152232 non-null  int64  \n",
            " 66  dns.qry.name.len-3.debian.pool.ntp.org                                             152232 non-null  int64  \n",
            " 67  dns.qry.name.len-_googlecast._tcp.local                                            152232 non-null  int64  \n",
            " 68  mqtt.conack.flags-0.0                                                              152232 non-null  int64  \n",
            " 69  mqtt.conack.flags-0                                                                152232 non-null  int64  \n",
            " 70  mqtt.conack.flags-0x00000000                                                       152232 non-null  int64  \n",
            " 71  mqtt.protoname-0.0                                                                 152232 non-null  int64  \n",
            " 72  mqtt.protoname-0                                                                   152232 non-null  int64  \n",
            " 73  mqtt.protoname-MQTT                                                                152232 non-null  int64  \n",
            " 74  mqtt.topic-0.0                                                                     152232 non-null  int64  \n",
            " 75  mqtt.topic-0                                                                       152232 non-null  int64  \n",
            " 76  mqtt.topic-Temperature_and_Humidity                                                152232 non-null  int64  \n",
            "dtypes: float64(39), int64(37), object(1)\n",
            "memory usage: 89.4+ MB\n"
          ]
        }
      ],
      "source": [
        "df.info()"
      ]
    },
    {
      "cell_type": "code",
      "execution_count": 6,
      "metadata": {
        "colab": {
          "base_uri": "https://localhost:8080/"
        },
        "execution": {
          "iopub.execute_input": "2022-03-21T18:18:39.973516Z",
          "iopub.status.busy": "2022-03-21T18:18:39.972998Z",
          "iopub.status.idle": "2022-03-21T18:18:39.984748Z",
          "shell.execute_reply": "2022-03-21T18:18:39.98388Z",
          "shell.execute_reply.started": "2022-03-21T18:18:39.973475Z"
        },
        "id": "NSt9iyIG4xS_",
        "outputId": "b90c6b8f-d551-40dd-9769-40c7841e2543"
      },
      "outputs": [
        {
          "output_type": "execute_result",
          "data": {
            "text/plain": [
              "['Unnamed: 0',\n",
              " 'arp.opcode',\n",
              " 'arp.hw.size',\n",
              " 'icmp.checksum',\n",
              " 'icmp.seq_le',\n",
              " 'icmp.unused',\n",
              " 'http.content_length',\n",
              " 'http.response',\n",
              " 'http.tls_port',\n",
              " 'tcp.ack',\n",
              " 'tcp.ack_raw',\n",
              " 'tcp.checksum',\n",
              " 'tcp.connection.fin',\n",
              " 'tcp.connection.rst',\n",
              " 'tcp.connection.syn',\n",
              " 'tcp.connection.synack',\n",
              " 'tcp.flags',\n",
              " 'tcp.flags.ack',\n",
              " 'tcp.len',\n",
              " 'tcp.seq',\n",
              " 'udp.stream',\n",
              " 'udp.time_delta',\n",
              " 'dns.qry.name',\n",
              " 'dns.qry.qu',\n",
              " 'dns.qry.type',\n",
              " 'dns.retransmission',\n",
              " 'dns.retransmit_request',\n",
              " 'dns.retransmit_request_in',\n",
              " 'mqtt.conflag.cleansess',\n",
              " 'mqtt.conflags',\n",
              " 'mqtt.hdrflags',\n",
              " 'mqtt.len',\n",
              " 'mqtt.msg_decoded_as',\n",
              " 'mqtt.msgtype',\n",
              " 'mqtt.proto_len',\n",
              " 'mqtt.topic_len',\n",
              " 'mqtt.ver',\n",
              " 'mbtcp.len',\n",
              " 'mbtcp.trans_id',\n",
              " 'mbtcp.unit_id',\n",
              " 'Attack_label',\n",
              " 'http.request.method-0.0',\n",
              " 'http.request.method-0',\n",
              " 'http.request.method-GET',\n",
              " 'http.request.method-OPTIONS',\n",
              " 'http.request.method-POST',\n",
              " 'http.request.method-TRACE',\n",
              " 'http.referer-0.0',\n",
              " 'http.referer-() { _; } >_[$($())] { echo 93e4r0-CVE-2014-6278: true; echo;echo; }',\n",
              " 'http.referer-0',\n",
              " 'http.referer-127.0.0.1',\n",
              " 'http.request.version-0.0',\n",
              " 'http.request.version--a HTTP/1.1',\n",
              " 'http.request.version-/etc/passwd|?data=Download HTTP/1.1',\n",
              " 'http.request.version-0',\n",
              " 'http.request.version-By Dr HTTP/1.1',\n",
              " 'http.request.version-HTTP/1.0',\n",
              " 'http.request.version-HTTP/1.1',\n",
              " 'http.request.version-Src=javascript:alert(\\'Vulnerable\\')><Img Src=\\\\\" HTTP/1.1',\n",
              " 'dns.qry.name.len-0.0',\n",
              " 'dns.qry.name.len-1.0',\n",
              " 'dns.qry.name.len-0',\n",
              " 'dns.qry.name.len-0.debian.pool.ntp.org',\n",
              " 'dns.qry.name.len-1.debian.pool.ntp.org',\n",
              " 'dns.qry.name.len-2.debian.pool.ntp.org',\n",
              " 'dns.qry.name.len-3.debian.pool.ntp.org',\n",
              " 'dns.qry.name.len-_googlecast._tcp.local',\n",
              " 'mqtt.conack.flags-0.0',\n",
              " 'mqtt.conack.flags-0',\n",
              " 'mqtt.conack.flags-0x00000000',\n",
              " 'mqtt.protoname-0.0',\n",
              " 'mqtt.protoname-0',\n",
              " 'mqtt.protoname-MQTT',\n",
              " 'mqtt.topic-0.0',\n",
              " 'mqtt.topic-0',\n",
              " 'mqtt.topic-Temperature_and_Humidity']"
            ]
          },
          "metadata": {},
          "execution_count": 6
        }
      ],
      "source": [
        "feat_cols = list(df.columns)\n",
        "label_col = \"Attack_type\"\n",
        "\n",
        "feat_cols.remove(label_col)\n",
        "feat_cols"
      ]
    },
    {
      "cell_type": "code",
      "execution_count": 7,
      "metadata": {
        "colab": {
          "base_uri": "https://localhost:8080/"
        },
        "execution": {
          "iopub.execute_input": "2022-03-21T18:18:39.986852Z",
          "iopub.status.busy": "2022-03-21T18:18:39.986466Z",
          "iopub.status.idle": "2022-03-21T18:18:39.995666Z",
          "shell.execute_reply": "2022-03-21T18:18:39.994873Z",
          "shell.execute_reply.started": "2022-03-21T18:18:39.986798Z"
        },
        "id": "VeZbasYL4xS_",
        "outputId": "55fb116e-8415-4e76-c5a0-eaa6e4c913ba"
      },
      "outputs": [
        {
          "output_type": "execute_result",
          "data": {
            "text/plain": [
              "76"
            ]
          },
          "metadata": {},
          "execution_count": 7
        }
      ],
      "source": [
        "len(feat_cols)"
      ]
    },
    {
      "cell_type": "code",
      "execution_count": 8,
      "metadata": {
        "colab": {
          "base_uri": "https://localhost:8080/"
        },
        "execution": {
          "iopub.execute_input": "2022-03-21T18:18:39.997526Z",
          "iopub.status.busy": "2022-03-21T18:18:39.997328Z",
          "iopub.status.idle": "2022-03-21T18:18:40.266138Z",
          "shell.execute_reply": "2022-03-21T18:18:40.26511Z",
          "shell.execute_reply.started": "2022-03-21T18:18:39.997503Z"
        },
        "id": "LTgTDrFB4xTA",
        "outputId": "4242a4db-a4b5-480e-a053-e801689f54ff"
      },
      "outputs": [
        {
          "output_type": "execute_result",
          "data": {
            "text/plain": [
              "[]"
            ]
          },
          "metadata": {},
          "execution_count": 8
        }
      ],
      "source": [
        "empty_cols = [col for col in df.columns if df[col].isnull().all()]\n",
        "empty_cols"
      ]
    },
    {
      "cell_type": "code",
      "execution_count": 9,
      "metadata": {
        "execution": {
          "iopub.execute_input": "2022-03-21T18:18:51.324884Z",
          "iopub.status.busy": "2022-03-21T18:18:51.32419Z",
          "iopub.status.idle": "2022-03-21T18:18:51.329196Z",
          "shell.execute_reply": "2022-03-21T18:18:51.328364Z",
          "shell.execute_reply.started": "2022-03-21T18:18:51.324836Z"
        },
        "id": "49M_eI3Q4xTB"
      },
      "outputs": [],
      "source": [
        "skip_list = [\"icmp.unused\", \"http.tls_port\", \"dns.qry.type\", \"mqtt.msg_decoded_as\"]"
      ]
    },
    {
      "cell_type": "code",
      "execution_count": 10,
      "metadata": {
        "colab": {
          "base_uri": "https://localhost:8080/"
        },
        "execution": {
          "iopub.execute_input": "2022-03-21T18:18:52.501899Z",
          "iopub.status.busy": "2022-03-21T18:18:52.501243Z",
          "iopub.status.idle": "2022-03-21T18:18:52.52275Z",
          "shell.execute_reply": "2022-03-21T18:18:52.521799Z",
          "shell.execute_reply.started": "2022-03-21T18:18:52.501858Z"
        },
        "id": "4aDd_z1N4xTC",
        "outputId": "cda81f75-a5c8-4e1a-ba64-12ae55fa9fe0"
      },
      "outputs": [
        {
          "output_type": "execute_result",
          "data": {
            "text/plain": [
              "0.0    152232\n",
              "Name: mqtt.msg_decoded_as, dtype: int64"
            ]
          },
          "metadata": {},
          "execution_count": 10
        }
      ],
      "source": [
        "df[skip_list[3]].value_counts()"
      ]
    },
    {
      "cell_type": "code",
      "execution_count": 11,
      "metadata": {
        "colab": {
          "base_uri": "https://localhost:8080/"
        },
        "execution": {
          "iopub.execute_input": "2022-03-21T18:18:53.102882Z",
          "iopub.status.busy": "2022-03-21T18:18:53.102372Z",
          "iopub.status.idle": "2022-03-21T18:18:53.524471Z",
          "shell.execute_reply": "2022-03-21T18:18:53.523753Z",
          "shell.execute_reply.started": "2022-03-21T18:18:53.102839Z"
        },
        "id": "hQEfTccR4xTC",
        "outputId": "b01d4e3e-3ea3-4d88-f125-fa61a1dc596a"
      },
      "outputs": [
        {
          "output_type": "execute_result",
          "data": {
            "text/plain": [
              "['Unnamed: 0',\n",
              " 'arp.opcode',\n",
              " 'arp.hw.size',\n",
              " 'icmp.checksum',\n",
              " 'icmp.seq_le',\n",
              " 'http.content_length',\n",
              " 'http.response',\n",
              " 'tcp.ack',\n",
              " 'tcp.ack_raw',\n",
              " 'tcp.checksum',\n",
              " 'tcp.connection.fin',\n",
              " 'tcp.connection.rst',\n",
              " 'tcp.connection.syn',\n",
              " 'tcp.connection.synack',\n",
              " 'tcp.flags',\n",
              " 'tcp.flags.ack',\n",
              " 'tcp.len',\n",
              " 'tcp.seq',\n",
              " 'udp.stream',\n",
              " 'udp.time_delta',\n",
              " 'dns.qry.name',\n",
              " 'dns.qry.qu',\n",
              " 'dns.retransmission',\n",
              " 'dns.retransmit_request',\n",
              " 'dns.retransmit_request_in',\n",
              " 'mqtt.conflag.cleansess',\n",
              " 'mqtt.conflags',\n",
              " 'mqtt.hdrflags',\n",
              " 'mqtt.len',\n",
              " 'mqtt.msgtype',\n",
              " 'mqtt.proto_len',\n",
              " 'mqtt.topic_len',\n",
              " 'mqtt.ver',\n",
              " 'mbtcp.len',\n",
              " 'mbtcp.trans_id',\n",
              " 'mbtcp.unit_id',\n",
              " 'Attack_label',\n",
              " 'http.request.method-0.0',\n",
              " 'http.request.method-0',\n",
              " 'http.request.method-GET',\n",
              " 'http.request.method-OPTIONS',\n",
              " 'http.request.method-POST',\n",
              " 'http.request.method-TRACE',\n",
              " 'http.referer-0.0',\n",
              " 'http.referer-() { _; } >_[$($())] { echo 93e4r0-CVE-2014-6278: true; echo;echo; }',\n",
              " 'http.referer-0',\n",
              " 'http.referer-127.0.0.1',\n",
              " 'http.request.version-0.0',\n",
              " 'http.request.version--a HTTP/1.1',\n",
              " 'http.request.version-/etc/passwd|?data=Download HTTP/1.1',\n",
              " 'http.request.version-0',\n",
              " 'http.request.version-By Dr HTTP/1.1',\n",
              " 'http.request.version-HTTP/1.0',\n",
              " 'http.request.version-HTTP/1.1',\n",
              " 'http.request.version-Src=javascript:alert(\\'Vulnerable\\')><Img Src=\\\\\" HTTP/1.1',\n",
              " 'dns.qry.name.len-0.0',\n",
              " 'dns.qry.name.len-1.0',\n",
              " 'dns.qry.name.len-0',\n",
              " 'dns.qry.name.len-0.debian.pool.ntp.org',\n",
              " 'dns.qry.name.len-1.debian.pool.ntp.org',\n",
              " 'dns.qry.name.len-2.debian.pool.ntp.org',\n",
              " 'dns.qry.name.len-3.debian.pool.ntp.org',\n",
              " 'dns.qry.name.len-_googlecast._tcp.local',\n",
              " 'mqtt.conack.flags-0.0',\n",
              " 'mqtt.conack.flags-0',\n",
              " 'mqtt.conack.flags-0x00000000',\n",
              " 'mqtt.protoname-0.0',\n",
              " 'mqtt.protoname-0',\n",
              " 'mqtt.protoname-MQTT',\n",
              " 'mqtt.topic-0.0',\n",
              " 'mqtt.topic-0',\n",
              " 'mqtt.topic-Temperature_and_Humidity']"
            ]
          },
          "metadata": {},
          "execution_count": 11
        }
      ],
      "source": [
        "df.drop(skip_list, axis=1, inplace=True)\n",
        "feat_cols = list(df.columns)\n",
        "feat_cols.remove(label_col)\n",
        "feat_cols"
      ]
    },
    {
      "cell_type": "markdown",
      "metadata": {
        "id": "HaWdYUo24xTG"
      },
      "source": [
        "# Rest of visualization will be on test set\n",
        "### because it takes much time on the whole dataset"
      ]
    },
    {
      "cell_type": "code",
      "execution_count": 12,
      "metadata": {
        "execution": {
          "iopub.execute_input": "2022-03-21T18:19:05.276358Z",
          "iopub.status.busy": "2022-03-21T18:19:05.276097Z",
          "iopub.status.idle": "2022-03-21T18:19:05.67217Z",
          "shell.execute_reply": "2022-03-21T18:19:05.670875Z",
          "shell.execute_reply.started": "2022-03-21T18:19:05.276328Z"
        },
        "id": "nD0jhXDE4xTJ"
      },
      "outputs": [],
      "source": [
        "X = df.drop([label_col], axis=1)\n",
        "y = df[label_col]\n"
      ]
    },
    {
      "cell_type": "code",
      "execution_count": 13,
      "metadata": {
        "colab": {
          "base_uri": "https://localhost:8080/"
        },
        "id": "f7GHsXCX_IFS",
        "outputId": "56383c51-05ec-49c8-8917-b6d4c06922a6"
      },
      "outputs": [
        {
          "output_type": "stream",
          "name": "stdout",
          "text": [
            "(152232,)\n"
          ]
        }
      ],
      "source": [
        "print(y.shape)"
      ]
    },
    {
      "cell_type": "code",
      "execution_count": 14,
      "metadata": {
        "execution": {
          "iopub.execute_input": "2022-03-21T18:19:06.748091Z",
          "iopub.status.busy": "2022-03-21T18:19:06.747553Z",
          "iopub.status.idle": "2022-03-21T18:19:11.506938Z",
          "shell.execute_reply": "2022-03-21T18:19:11.506034Z",
          "shell.execute_reply.started": "2022-03-21T18:19:06.748054Z"
        },
        "id": "not-IY614xTK"
      },
      "outputs": [],
      "source": [
        "from sklearn.model_selection import train_test_split\n",
        "\n",
        "X_train, X_test, y_train, y_test = train_test_split(X, y, test_size=0.2, random_state=1, stratify=y)\n",
        "\n",
        "del X\n",
        "del y"
      ]
    },
    {
      "cell_type": "code",
      "execution_count": 15,
      "metadata": {
        "colab": {
          "base_uri": "https://localhost:8080/"
        },
        "execution": {
          "iopub.execute_input": "2022-03-21T18:19:11.513713Z",
          "iopub.status.busy": "2022-03-21T18:19:11.511522Z",
          "iopub.status.idle": "2022-03-21T18:19:11.518444Z",
          "shell.execute_reply": "2022-03-21T18:19:11.517777Z",
          "shell.execute_reply.started": "2022-03-21T18:19:11.51367Z"
        },
        "id": "DCn3ND9X4xTL",
        "outputId": "8db4c463-12c5-4aa7-8e0f-52e08a4138c6"
      },
      "outputs": [
        {
          "output_type": "stream",
          "name": "stdout",
          "text": [
            "(121785, 72)\n"
          ]
        }
      ],
      "source": [
        "print(X_train.shape)"
      ]
    },
    {
      "cell_type": "code",
      "execution_count": 16,
      "metadata": {
        "execution": {
          "iopub.execute_input": "2022-03-21T18:19:11.523276Z",
          "iopub.status.busy": "2022-03-21T18:19:11.522764Z",
          "iopub.status.idle": "2022-03-21T18:19:12.187736Z",
          "shell.execute_reply": "2022-03-21T18:19:12.187015Z",
          "shell.execute_reply.started": "2022-03-21T18:19:11.52324Z"
        },
        "id": "pIMv1OzU4xTM"
      },
      "outputs": [],
      "source": [
        "from sklearn.preprocessing import LabelEncoder\n",
        "\n",
        "\n",
        "label_encoder = LabelEncoder()\n",
        "y_train =  label_encoder.fit_transform(y_train)\n",
        "y_test = label_encoder.transform(y_test)"
      ]
    },
    {
      "cell_type": "code",
      "source": [
        "label_encoder.classes_"
      ],
      "metadata": {
        "colab": {
          "base_uri": "https://localhost:8080/"
        },
        "id": "-WKxpg2unxti",
        "outputId": "8ea7a7c8-962a-4438-ad72-6f41795aa43c"
      },
      "execution_count": 17,
      "outputs": [
        {
          "output_type": "execute_result",
          "data": {
            "text/plain": [
              "array(['Backdoor', 'DDoS_HTTP', 'DDoS_ICMP', 'DDoS_TCP', 'DDoS_UDP',\n",
              "       'Fingerprinting', 'MITM', 'Normal', 'Password', 'Port_Scanning',\n",
              "       'Ransomware', 'SQL_injection', 'Uploading',\n",
              "       'Vulnerability_scanner', 'XSS'], dtype=object)"
            ]
          },
          "metadata": {},
          "execution_count": 17
        }
      ]
    },
    {
      "cell_type": "code",
      "execution_count": 18,
      "metadata": {
        "colab": {
          "base_uri": "https://localhost:8080/"
        },
        "id": "kmSlR32eAWZO",
        "outputId": "ed7f4a47-36fd-4dc7-99aa-d71023ca40b7"
      },
      "outputs": [
        {
          "output_type": "stream",
          "name": "stdout",
          "text": [
            "(121785,)\n"
          ]
        }
      ],
      "source": [
        "print(y_train.shape)"
      ]
    },
    {
      "cell_type": "code",
      "execution_count": 19,
      "metadata": {
        "colab": {
          "base_uri": "https://localhost:8080/"
        },
        "execution": {
          "iopub.execute_input": "2022-03-21T18:19:12.584317Z",
          "iopub.status.busy": "2022-03-21T18:19:12.583758Z",
          "iopub.status.idle": "2022-03-21T18:19:12.590693Z",
          "shell.execute_reply": "2022-03-21T18:19:12.589764Z",
          "shell.execute_reply.started": "2022-03-21T18:19:12.584281Z"
        },
        "id": "l68RLaht4xTN",
        "outputId": "a427f0bb-a3b2-449a-c166-1fd0b3fbe52a"
      },
      "outputs": [
        {
          "output_type": "execute_result",
          "data": {
            "text/plain": [
              "array(['Backdoor', 'DDoS_HTTP', 'DDoS_ICMP', 'DDoS_TCP', 'DDoS_UDP',\n",
              "       'Fingerprinting', 'MITM', 'Normal', 'Password', 'Port_Scanning',\n",
              "       'Ransomware', 'SQL_injection', 'Uploading',\n",
              "       'Vulnerability_scanner', 'XSS'], dtype=object)"
            ]
          },
          "metadata": {},
          "execution_count": 19
        }
      ],
      "source": [
        "label_encoder.classes_"
      ]
    },
    {
      "cell_type": "code",
      "source": [
        "from sklearn.preprocessing import MinMaxScaler\n",
        "\n",
        "min_max_scaler = MinMaxScaler()\n",
        "X_train =  min_max_scaler.fit_transform(X_train)\n",
        "X_test = min_max_scaler.transform(X_test)\n",
        "#remove reshaping for randomforrest\n",
        "# this is only needed for a 1D CNN\n",
        "# X_train = X_train.reshape(X_train.shape[0], X_train.shape[1], 1)\n",
        "# X_test = X_test.reshape(X_test.shape[0], X_test.shape[1], 1)\n",
        "input_shape = X_train.shape[1:]\n",
        "print(X_train.shape, X_test.shape)\n",
        "print(input_shape)"
      ],
      "metadata": {
        "colab": {
          "base_uri": "https://localhost:8080/"
        },
        "id": "5vZ54fu1oSGv",
        "outputId": "267c9b8f-76af-411c-8a47-c648f5596619"
      },
      "execution_count": 20,
      "outputs": [
        {
          "output_type": "stream",
          "name": "stdout",
          "text": [
            "(121785, 72) (30447, 72)\n",
            "(72,)\n"
          ]
        }
      ]
    },
    {
      "cell_type": "code",
      "execution_count": 21,
      "metadata": {
        "id": "2r9Z9Q_CasIm"
      },
      "outputs": [],
      "source": [
        "num_classes = len(np.unique(y_train))\n",
        "num_classes\n",
        "\n",
        "from  tensorflow.keras.utils import to_categorical \n",
        "\n",
        "y_train = to_categorical(y_train, num_classes=num_classes)\n",
        "y_test = to_categorical(y_test, num_classes=num_classes)"
      ]
    },
    {
      "cell_type": "code",
      "execution_count": 22,
      "metadata": {
        "id": "Wwlko7jBBrRB"
      },
      "outputs": [],
      "source": [
        "from sklearn.ensemble import RandomForestClassifier"
      ]
    },
    {
      "cell_type": "code",
      "execution_count": 23,
      "metadata": {
        "colab": {
          "base_uri": "https://localhost:8080/"
        },
        "id": "LGE-sM8oBhmA",
        "outputId": "4c4d6bdc-b01a-4bf1-fe5b-dc7e4487af86"
      },
      "outputs": [
        {
          "output_type": "stream",
          "name": "stdout",
          "text": [
            "model score  0.999770092291523\n"
          ]
        }
      ],
      "source": [
        "model = RandomForestClassifier(n_estimators=77, n_jobs=-1, random_state=7)\n",
        "model.fit(X_train, y_train)\n",
        "print (\"model score \", model.score(X_test, y_test))"
      ]
    },
    {
      "cell_type": "code",
      "execution_count": 24,
      "metadata": {
        "colab": {
          "base_uri": "https://localhost:8080/"
        },
        "execution": {
          "iopub.execute_input": "2022-03-21T18:20:41.418307Z",
          "iopub.status.busy": "2022-03-21T18:20:41.417931Z",
          "iopub.status.idle": "2022-03-21T18:20:41.423732Z",
          "shell.execute_reply": "2022-03-21T18:20:41.42302Z",
          "shell.execute_reply.started": "2022-03-21T18:20:41.418268Z"
        },
        "id": "_vizLMbu4xTi",
        "outputId": "c8b497c2-b444-40f5-d7fc-28d3112830ff"
      },
      "outputs": [
        {
          "output_type": "stream",
          "name": "stdout",
          "text": [
            "(121785, 15)\n"
          ]
        }
      ],
      "source": [
        "print(y_train.shape)"
      ]
    },
    {
      "cell_type": "markdown",
      "metadata": {
        "id": "CvSSfdAj4xTl"
      },
      "source": [
        "# Validation Results"
      ]
    },
    {
      "cell_type": "code",
      "execution_count": 25,
      "metadata": {
        "execution": {
          "iopub.execute_input": "2022-03-21T18:21:24.832479Z",
          "iopub.status.busy": "2022-03-21T18:21:24.832081Z",
          "iopub.status.idle": "2022-03-21T18:23:52.353777Z",
          "shell.execute_reply": "2022-03-21T18:23:52.35289Z",
          "shell.execute_reply.started": "2022-03-21T18:21:24.832443Z"
        },
        "id": "kDyFTBfA4xTl"
      },
      "outputs": [],
      "source": [
        "y_hat = model.predict(X_test)"
      ]
    },
    {
      "cell_type": "code",
      "execution_count": 26,
      "metadata": {
        "colab": {
          "base_uri": "https://localhost:8080/"
        },
        "id": "FAJxQvokDFeZ",
        "outputId": "ad3696ae-f5c4-4a94-e480-6a5af10e472e"
      },
      "outputs": [
        {
          "output_type": "stream",
          "name": "stdout",
          "text": [
            "(30447, 15)\n"
          ]
        }
      ],
      "source": [
        "print(y_hat.shape)"
      ]
    },
    {
      "cell_type": "code",
      "execution_count": 27,
      "metadata": {
        "execution": {
          "iopub.execute_input": "2022-03-21T18:23:52.355706Z",
          "iopub.status.busy": "2022-03-21T18:23:52.355429Z",
          "iopub.status.idle": "2022-03-21T18:23:52.380041Z",
          "shell.execute_reply": "2022-03-21T18:23:52.37918Z",
          "shell.execute_reply.started": "2022-03-21T18:23:52.355668Z"
        },
        "id": "cuM-x30D4xTm"
      },
      "outputs": [],
      "source": [
        "y_hat = np.argmax(y_hat, axis=0)\n",
        "y_true = np.argmax(y_test, axis=0)"
      ]
    },
    {
      "cell_type": "code",
      "source": [
        "from sklearn.metrics import accuracy_score, precision_recall_fscore_support,confusion_matrix, classification_report, precision_score, recall_score\n",
        "from sklearn.metrics import f1_score as f1_score_rep\n",
        "import seaborn as sn\n",
        "\n",
        "def print_score(y_pred, y_real, label_encoder):\n",
        "    print(\"Accuracy: \", accuracy_score(y_real, y_pred))\n",
        "    print(\"Precision:: \", precision_score(y_real, y_pred, average=\"micro\"))\n",
        "    print(\"Recall:: \", recall_score(y_real, y_pred, average=\"micro\"))\n",
        "    print(\"F1_Score:: \", f1_score_rep(y_real, y_pred, average=\"micro\"))\n",
        "\n",
        "    print()\n",
        "    print(\"Macro precision_recall_fscore_support (macro) average\")\n",
        "    print(precision_recall_fscore_support(y_real, y_pred, average=\"macro\"))\n",
        "\n",
        "    print()\n",
        "    print(\"Macro precision_recall_fscore_support (micro) average\")\n",
        "    print(precision_recall_fscore_support(y_real, y_pred, average=\"micro\"))\n",
        "\n",
        "    print()\n",
        "    print(\"Macro precision_recall_fscore_support (weighted) average\")\n",
        "    print(precision_recall_fscore_support(y_real, y_pred, average=\"weighted\"))\n",
        "    \n",
        "    print()\n",
        "    print(\"Confusion Matrix\")\n",
        "    cm = confusion_matrix(y_real, y_pred)\n",
        "    cm = cm.astype('float') / cm.sum(axis=1)[:, np.newaxis]\n",
        "    df_cm = pd.DataFrame(cm, index = [i for i in label_encoder.classes_],\n",
        "                  columns = [i for i in label_encoder.classes_])\n",
        "    plt.figure(figsize = (10,7))\n",
        "    sn.heatmap(df_cm, annot=True)\n",
        "\n",
        "    print()\n",
        "    print(\"Classification Report\")\n",
        "    print(classification_report(y_real, y_pred, target_names=label_encoder.classes_))"
      ],
      "metadata": {
        "id": "7zmckFIPsiSM"
      },
      "execution_count": 31,
      "outputs": []
    },
    {
      "cell_type": "code",
      "execution_count": 32,
      "metadata": {
        "execution": {
          "iopub.execute_input": "2022-03-21T18:28:16.306524Z",
          "iopub.status.busy": "2022-03-21T18:28:16.305943Z",
          "iopub.status.idle": "2022-03-21T18:28:18.687389Z",
          "shell.execute_reply": "2022-03-21T18:28:18.686709Z",
          "shell.execute_reply.started": "2022-03-21T18:28:16.306482Z"
        },
        "id": "IfkPh0zh4xTo",
        "colab": {
          "base_uri": "https://localhost:8080/",
          "height": 1000
        },
        "outputId": "4b8cca18-c464-4935-9588-7e22ce3e3706"
      },
      "outputs": [
        {
          "output_type": "stream",
          "name": "stdout",
          "text": [
            "Accuracy:  1.0\n",
            "Precision::  1.0\n",
            "Recall::  1.0\n",
            "F1_Score::  1.0\n",
            "\n",
            "Macro precision_recall_fscore_support (macro) average\n",
            "(1.0, 1.0, 1.0, None)\n",
            "\n",
            "Macro precision_recall_fscore_support (micro) average\n",
            "(1.0, 1.0, 1.0, None)\n",
            "\n",
            "Macro precision_recall_fscore_support (weighted) average\n",
            "(1.0, 1.0, 1.0, None)\n",
            "\n",
            "Confusion Matrix\n",
            "\n",
            "Classification Report\n",
            "                       precision    recall  f1-score   support\n",
            "\n",
            "             Backdoor       1.00      1.00      1.00         1\n",
            "            DDoS_HTTP       1.00      1.00      1.00         1\n",
            "            DDoS_ICMP       1.00      1.00      1.00         1\n",
            "             DDoS_TCP       1.00      1.00      1.00         1\n",
            "             DDoS_UDP       1.00      1.00      1.00         1\n",
            "       Fingerprinting       1.00      1.00      1.00         1\n",
            "                 MITM       1.00      1.00      1.00         1\n",
            "               Normal       1.00      1.00      1.00         1\n",
            "             Password       1.00      1.00      1.00         1\n",
            "        Port_Scanning       1.00      1.00      1.00         1\n",
            "           Ransomware       1.00      1.00      1.00         1\n",
            "        SQL_injection       1.00      1.00      1.00         1\n",
            "            Uploading       1.00      1.00      1.00         1\n",
            "Vulnerability_scanner       1.00      1.00      1.00         1\n",
            "                  XSS       1.00      1.00      1.00         1\n",
            "\n",
            "             accuracy                           1.00        15\n",
            "            macro avg       1.00      1.00      1.00        15\n",
            "         weighted avg       1.00      1.00      1.00        15\n",
            "\n"
          ]
        },
        {
          "output_type": "display_data",
          "data": {
            "text/plain": [
              "<Figure size 720x504 with 2 Axes>"
            ],
            "image/png": "[encoded data removed]"
          },
          "metadata": {
            "needs_background": "light"
          }
        }
      ],
      "source": [
        "print_score(y_hat, y_true, label_encoder)"
      ]
    },
    {
      "cell_type": "code",
      "execution_count": null,
      "metadata": {
        "id": "yZy36vVJ4xTo"
      },
      "outputs": [],
      "source": []
    }
  ],
  "metadata": {
    "colab": {
      "machine_shape": "hm",
      "provenance": []
    },
    "gpuClass": "standard",
    "kernelspec": {
      "display_name": "Python 3 (ipykernel)",
      "language": "python",
      "name": "python3"
    },
    "language_info": {
      "codemirror_mode": {
        "name": "ipython",
        "version": 3
      },
      "file_extension": ".py",
      "mimetype": "text/x-python",
      "name": "python",
      "nbconvert_exporter": "python",
      "pygments_lexer": "ipython3",
      "version": "3.7.15"
    }
  },
  "nbformat": 4,
  "nbformat_minor": 0
}