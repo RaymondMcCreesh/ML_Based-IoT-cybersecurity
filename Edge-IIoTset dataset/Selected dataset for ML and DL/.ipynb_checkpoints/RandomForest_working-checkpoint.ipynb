{
 "cells": [
  {
   "cell_type": "code",
   "execution_count": 1,
   "metadata": {
    "execution": {
     "iopub.execute_input": "2022-03-21T18:18:13.102499Z",
     "iopub.status.busy": "2022-03-21T18:18:13.101778Z",
     "iopub.status.idle": "2022-03-21T18:18:13.231434Z",
     "shell.execute_reply": "2022-03-21T18:18:13.230789Z",
     "shell.execute_reply.started": "2022-03-21T18:18:13.102464Z"
    },
    "id": "Ku9h4UTT4xS6"
   },
   "outputs": [
    {
     "ename": "ImportError",
     "evalue": "DLL load failed: The specified module could not be found.",
     "output_type": "error",
     "traceback": [
      "\u001b[1;31m---------------------------------------------------------------------------\u001b[0m",
      "\u001b[1;31mImportError\u001b[0m                               Traceback (most recent call last)",
      "\u001b[1;32m<ipython-input-1-c5d6074ba7a7>\u001b[0m in \u001b[0;36m<module>\u001b[1;34m\u001b[0m\n\u001b[0;32m      2\u001b[0m \u001b[1;32mimport\u001b[0m \u001b[0mnumpy\u001b[0m \u001b[1;32mas\u001b[0m \u001b[0mnp\u001b[0m\u001b[1;33m\u001b[0m\u001b[1;33m\u001b[0m\u001b[0m\n\u001b[0;32m      3\u001b[0m \u001b[1;32mfrom\u001b[0m \u001b[0mmatplotlib\u001b[0m \u001b[1;32mimport\u001b[0m \u001b[0mpyplot\u001b[0m \u001b[1;32mas\u001b[0m \u001b[0mplt\u001b[0m\u001b[1;33m\u001b[0m\u001b[1;33m\u001b[0m\u001b[0m\n\u001b[1;32m----> 4\u001b[1;33m \u001b[1;32mimport\u001b[0m \u001b[0mseaborn\u001b[0m \u001b[1;32mas\u001b[0m \u001b[0msns\u001b[0m\u001b[1;33m\u001b[0m\u001b[1;33m\u001b[0m\u001b[0m\n\u001b[0m",
      "\u001b[1;32m~\\anaconda3\\lib\\site-packages\\seaborn\\__init__.py\u001b[0m in \u001b[0;36m<module>\u001b[1;34m\u001b[0m\n\u001b[0;32m      1\u001b[0m \u001b[1;31m# Import seaborn objects\u001b[0m\u001b[1;33m\u001b[0m\u001b[1;33m\u001b[0m\u001b[1;33m\u001b[0m\u001b[0m\n\u001b[1;32m----> 2\u001b[1;33m \u001b[1;32mfrom\u001b[0m \u001b[1;33m.\u001b[0m\u001b[0mrcmod\u001b[0m \u001b[1;32mimport\u001b[0m \u001b[1;33m*\u001b[0m  \u001b[1;31m# noqa: F401,F403\u001b[0m\u001b[1;33m\u001b[0m\u001b[1;33m\u001b[0m\u001b[0m\n\u001b[0m\u001b[0;32m      3\u001b[0m \u001b[1;32mfrom\u001b[0m \u001b[1;33m.\u001b[0m\u001b[0mutils\u001b[0m \u001b[1;32mimport\u001b[0m \u001b[1;33m*\u001b[0m  \u001b[1;31m# noqa: F401,F403\u001b[0m\u001b[1;33m\u001b[0m\u001b[1;33m\u001b[0m\u001b[0m\n\u001b[0;32m      4\u001b[0m \u001b[1;32mfrom\u001b[0m \u001b[1;33m.\u001b[0m\u001b[0mpalettes\u001b[0m \u001b[1;32mimport\u001b[0m \u001b[1;33m*\u001b[0m  \u001b[1;31m# noqa: F401,F403\u001b[0m\u001b[1;33m\u001b[0m\u001b[1;33m\u001b[0m\u001b[0m\n\u001b[0;32m      5\u001b[0m \u001b[1;32mfrom\u001b[0m \u001b[1;33m.\u001b[0m\u001b[0mrelational\u001b[0m \u001b[1;32mimport\u001b[0m \u001b[1;33m*\u001b[0m  \u001b[1;31m# noqa: F401,F403\u001b[0m\u001b[1;33m\u001b[0m\u001b[1;33m\u001b[0m\u001b[0m\n",
      "\u001b[1;32m~\\anaconda3\\lib\\site-packages\\seaborn\\rcmod.py\u001b[0m in \u001b[0;36m<module>\u001b[1;34m\u001b[0m\n\u001b[0;32m      5\u001b[0m \u001b[1;32mimport\u001b[0m \u001b[0mmatplotlib\u001b[0m \u001b[1;32mas\u001b[0m \u001b[0mmpl\u001b[0m\u001b[1;33m\u001b[0m\u001b[1;33m\u001b[0m\u001b[0m\n\u001b[0;32m      6\u001b[0m \u001b[1;32mfrom\u001b[0m \u001b[0mcycler\u001b[0m \u001b[1;32mimport\u001b[0m \u001b[0mcycler\u001b[0m\u001b[1;33m\u001b[0m\u001b[1;33m\u001b[0m\u001b[0m\n\u001b[1;32m----> 7\u001b[1;33m \u001b[1;32mfrom\u001b[0m \u001b[1;33m.\u001b[0m \u001b[1;32mimport\u001b[0m \u001b[0mpalettes\u001b[0m\u001b[1;33m\u001b[0m\u001b[1;33m\u001b[0m\u001b[0m\n\u001b[0m\u001b[0;32m      8\u001b[0m \u001b[1;33m\u001b[0m\u001b[0m\n\u001b[0;32m      9\u001b[0m \u001b[1;33m\u001b[0m\u001b[0m\n",
      "\u001b[1;32m~\\anaconda3\\lib\\site-packages\\seaborn\\palettes.py\u001b[0m in \u001b[0;36m<module>\u001b[1;34m\u001b[0m\n\u001b[0;32m      7\u001b[0m \u001b[1;32mfrom\u001b[0m \u001b[1;33m.\u001b[0m\u001b[0mexternal\u001b[0m \u001b[1;32mimport\u001b[0m \u001b[0mhusl\u001b[0m\u001b[1;33m\u001b[0m\u001b[1;33m\u001b[0m\u001b[0m\n\u001b[0;32m      8\u001b[0m \u001b[1;33m\u001b[0m\u001b[0m\n\u001b[1;32m----> 9\u001b[1;33m \u001b[1;32mfrom\u001b[0m \u001b[1;33m.\u001b[0m\u001b[0mutils\u001b[0m \u001b[1;32mimport\u001b[0m \u001b[0mdesaturate\u001b[0m\u001b[1;33m,\u001b[0m \u001b[0mget_color_cycle\u001b[0m\u001b[1;33m\u001b[0m\u001b[1;33m\u001b[0m\u001b[0m\n\u001b[0m\u001b[0;32m     10\u001b[0m \u001b[1;32mfrom\u001b[0m \u001b[1;33m.\u001b[0m\u001b[0mcolors\u001b[0m \u001b[1;32mimport\u001b[0m \u001b[0mxkcd_rgb\u001b[0m\u001b[1;33m,\u001b[0m \u001b[0mcrayons\u001b[0m\u001b[1;33m\u001b[0m\u001b[1;33m\u001b[0m\u001b[0m\n\u001b[0;32m     11\u001b[0m \u001b[1;33m\u001b[0m\u001b[0m\n",
      "\u001b[1;32m~\\anaconda3\\lib\\site-packages\\seaborn\\utils.py\u001b[0m in \u001b[0;36m<module>\u001b[1;34m\u001b[0m\n\u001b[0;32m      8\u001b[0m \u001b[1;33m\u001b[0m\u001b[0m\n\u001b[0;32m      9\u001b[0m \u001b[1;32mimport\u001b[0m \u001b[0mnumpy\u001b[0m \u001b[1;32mas\u001b[0m \u001b[0mnp\u001b[0m\u001b[1;33m\u001b[0m\u001b[1;33m\u001b[0m\u001b[0m\n\u001b[1;32m---> 10\u001b[1;33m \u001b[1;32mfrom\u001b[0m \u001b[0mscipy\u001b[0m \u001b[1;32mimport\u001b[0m \u001b[0mstats\u001b[0m\u001b[1;33m\u001b[0m\u001b[1;33m\u001b[0m\u001b[0m\n\u001b[0m\u001b[0;32m     11\u001b[0m \u001b[1;32mimport\u001b[0m \u001b[0mpandas\u001b[0m \u001b[1;32mas\u001b[0m \u001b[0mpd\u001b[0m\u001b[1;33m\u001b[0m\u001b[1;33m\u001b[0m\u001b[0m\n\u001b[0;32m     12\u001b[0m \u001b[1;32mimport\u001b[0m \u001b[0mmatplotlib\u001b[0m \u001b[1;32mas\u001b[0m \u001b[0mmpl\u001b[0m\u001b[1;33m\u001b[0m\u001b[1;33m\u001b[0m\u001b[0m\n",
      "\u001b[1;32m~\\anaconda3\\lib\\site-packages\\scipy\\stats\\__init__.py\u001b[0m in \u001b[0;36m<module>\u001b[1;34m\u001b[0m\n\u001b[0;32m    386\u001b[0m \u001b[1;33m\u001b[0m\u001b[0m\n\u001b[0;32m    387\u001b[0m \"\"\"\n\u001b[1;32m--> 388\u001b[1;33m \u001b[1;32mfrom\u001b[0m \u001b[1;33m.\u001b[0m\u001b[0mstats\u001b[0m \u001b[1;32mimport\u001b[0m \u001b[1;33m*\u001b[0m\u001b[1;33m\u001b[0m\u001b[1;33m\u001b[0m\u001b[0m\n\u001b[0m\u001b[0;32m    389\u001b[0m \u001b[1;32mfrom\u001b[0m \u001b[1;33m.\u001b[0m\u001b[0mdistributions\u001b[0m \u001b[1;32mimport\u001b[0m \u001b[1;33m*\u001b[0m\u001b[1;33m\u001b[0m\u001b[1;33m\u001b[0m\u001b[0m\n\u001b[0;32m    390\u001b[0m \u001b[1;32mfrom\u001b[0m \u001b[1;33m.\u001b[0m\u001b[0mmorestats\u001b[0m \u001b[1;32mimport\u001b[0m \u001b[1;33m*\u001b[0m\u001b[1;33m\u001b[0m\u001b[1;33m\u001b[0m\u001b[0m\n",
      "\u001b[1;32m~\\anaconda3\\lib\\site-packages\\scipy\\stats\\stats.py\u001b[0m in \u001b[0;36m<module>\u001b[1;34m\u001b[0m\n\u001b[0;32m    172\u001b[0m \u001b[1;32mfrom\u001b[0m \u001b[0mnumpy\u001b[0m \u001b[1;32mimport\u001b[0m \u001b[0marray\u001b[0m\u001b[1;33m,\u001b[0m \u001b[0masarray\u001b[0m\u001b[1;33m,\u001b[0m \u001b[0mma\u001b[0m\u001b[1;33m\u001b[0m\u001b[1;33m\u001b[0m\u001b[0m\n\u001b[0;32m    173\u001b[0m \u001b[1;33m\u001b[0m\u001b[0m\n\u001b[1;32m--> 174\u001b[1;33m \u001b[1;32mfrom\u001b[0m \u001b[0mscipy\u001b[0m\u001b[1;33m.\u001b[0m\u001b[0mspatial\u001b[0m\u001b[1;33m.\u001b[0m\u001b[0mdistance\u001b[0m \u001b[1;32mimport\u001b[0m \u001b[0mcdist\u001b[0m\u001b[1;33m\u001b[0m\u001b[1;33m\u001b[0m\u001b[0m\n\u001b[0m\u001b[0;32m    175\u001b[0m \u001b[1;32mfrom\u001b[0m \u001b[0mscipy\u001b[0m\u001b[1;33m.\u001b[0m\u001b[0mndimage\u001b[0m \u001b[1;32mimport\u001b[0m \u001b[0mmeasurements\u001b[0m\u001b[1;33m\u001b[0m\u001b[1;33m\u001b[0m\u001b[0m\n\u001b[0;32m    176\u001b[0m from scipy._lib._util import (_lazywhere, check_random_state, MapWrapper,\n",
      "\u001b[1;32m~\\anaconda3\\lib\\site-packages\\scipy\\spatial\\__init__.py\u001b[0m in \u001b[0;36m<module>\u001b[1;34m\u001b[0m\n\u001b[0;32m     96\u001b[0m \u001b[1;32mfrom\u001b[0m \u001b[1;33m.\u001b[0m\u001b[0mkdtree\u001b[0m \u001b[1;32mimport\u001b[0m \u001b[1;33m*\u001b[0m\u001b[1;33m\u001b[0m\u001b[1;33m\u001b[0m\u001b[0m\n\u001b[0;32m     97\u001b[0m \u001b[1;32mfrom\u001b[0m \u001b[1;33m.\u001b[0m\u001b[0mckdtree\u001b[0m \u001b[1;32mimport\u001b[0m \u001b[1;33m*\u001b[0m\u001b[1;33m\u001b[0m\u001b[1;33m\u001b[0m\u001b[0m\n\u001b[1;32m---> 98\u001b[1;33m \u001b[1;32mfrom\u001b[0m \u001b[1;33m.\u001b[0m\u001b[0mqhull\u001b[0m \u001b[1;32mimport\u001b[0m \u001b[1;33m*\u001b[0m\u001b[1;33m\u001b[0m\u001b[1;33m\u001b[0m\u001b[0m\n\u001b[0m\u001b[0;32m     99\u001b[0m \u001b[1;32mfrom\u001b[0m \u001b[1;33m.\u001b[0m\u001b[0m_spherical_voronoi\u001b[0m \u001b[1;32mimport\u001b[0m \u001b[0mSphericalVoronoi\u001b[0m\u001b[1;33m\u001b[0m\u001b[1;33m\u001b[0m\u001b[0m\n\u001b[0;32m    100\u001b[0m \u001b[1;32mfrom\u001b[0m \u001b[1;33m.\u001b[0m\u001b[0m_plotutils\u001b[0m \u001b[1;32mimport\u001b[0m \u001b[1;33m*\u001b[0m\u001b[1;33m\u001b[0m\u001b[1;33m\u001b[0m\u001b[0m\n",
      "\u001b[1;31mImportError\u001b[0m: DLL load failed: The specified module could not be found."
     ]
    }
   ],
   "source": [
    "import pandas as pd\n",
    "import numpy as np\n",
    "from matplotlib import pyplot as plt\n",
    "import seaborn as sns"
   ]
  },
  {
   "cell_type": "code",
   "execution_count": null,
   "metadata": {
    "colab": {
     "base_uri": "https://localhost:8080/"
    },
    "execution": {
     "iopub.execute_input": "2022-03-21T18:18:13.960709Z",
     "iopub.status.busy": "2022-03-21T18:18:13.960017Z",
     "iopub.status.idle": "2022-03-21T18:18:39.757294Z",
     "shell.execute_reply": "2022-03-21T18:18:39.756565Z",
     "shell.execute_reply.started": "2022-03-21T18:18:13.960664Z"
    },
    "id": "PSd8Rovb4xS7",
    "outputId": "da4e258e-ce6a-439b-89d6-19391f64a7cc"
   },
   "outputs": [],
   "source": [
    "df = pd.read_csv('preprocessed_ML.csv', low_memory=False) \n",
    "print(df.shape)"
   ]
  },
  {
   "cell_type": "code",
   "execution_count": null,
   "metadata": {
    "colab": {
     "base_uri": "https://localhost:8080/"
    },
    "execution": {
     "iopub.execute_input": "2022-03-21T18:18:39.75936Z",
     "iopub.status.busy": "2022-03-21T18:18:39.758929Z",
     "iopub.status.idle": "2022-03-21T18:18:39.950729Z",
     "shell.execute_reply": "2022-03-21T18:18:39.949889Z",
     "shell.execute_reply.started": "2022-03-21T18:18:39.759321Z"
    },
    "id": "9TMnCZuD4xS9",
    "outputId": "36901e91-48f4-4ec4-c6bb-feede8e7415c"
   },
   "outputs": [],
   "source": [
    "df['Attack_type'].value_counts()"
   ]
  },
  {
   "cell_type": "code",
   "execution_count": null,
   "metadata": {},
   "outputs": [],
   "source": [
    "num_classes = df['Attack_type'].nunique()\n",
    "print(num_classes)"
   ]
  },
  {
   "cell_type": "code",
   "execution_count": null,
   "metadata": {
    "colab": {
     "base_uri": "https://localhost:8080/"
    },
    "execution": {
     "iopub.execute_input": "2022-03-21T18:18:39.952523Z",
     "iopub.status.busy": "2022-03-21T18:18:39.952256Z",
     "iopub.status.idle": "2022-03-21T18:18:39.970812Z",
     "shell.execute_reply": "2022-03-21T18:18:39.970115Z",
     "shell.execute_reply.started": "2022-03-21T18:18:39.952488Z"
    },
    "id": "jVpQiEy64xS-",
    "outputId": "f599495f-9c25-44ee-fb30-eeab7b6d8629"
   },
   "outputs": [],
   "source": [
    "df.info()"
   ]
  },
  {
   "cell_type": "code",
   "execution_count": null,
   "metadata": {
    "colab": {
     "base_uri": "https://localhost:8080/"
    },
    "execution": {
     "iopub.execute_input": "2022-03-21T18:18:39.973516Z",
     "iopub.status.busy": "2022-03-21T18:18:39.972998Z",
     "iopub.status.idle": "2022-03-21T18:18:39.984748Z",
     "shell.execute_reply": "2022-03-21T18:18:39.98388Z",
     "shell.execute_reply.started": "2022-03-21T18:18:39.973475Z"
    },
    "id": "NSt9iyIG4xS_",
    "outputId": "3fab154a-c02b-4455-b8aa-ec08e8888208"
   },
   "outputs": [],
   "source": [
    "feat_cols = list(df.columns)\n",
    "label_col = \"Attack_type\"\n",
    "\n",
    "feat_cols.remove(label_col)\n",
    "feat_cols"
   ]
  },
  {
   "cell_type": "code",
   "execution_count": null,
   "metadata": {
    "colab": {
     "base_uri": "https://localhost:8080/"
    },
    "execution": {
     "iopub.execute_input": "2022-03-21T18:18:39.986852Z",
     "iopub.status.busy": "2022-03-21T18:18:39.986466Z",
     "iopub.status.idle": "2022-03-21T18:18:39.995666Z",
     "shell.execute_reply": "2022-03-21T18:18:39.994873Z",
     "shell.execute_reply.started": "2022-03-21T18:18:39.986798Z"
    },
    "id": "VeZbasYL4xS_",
    "outputId": "37c5ff1d-2b8f-421e-d2e5-bfc95103f449"
   },
   "outputs": [],
   "source": [
    "len(feat_cols)"
   ]
  },
  {
   "cell_type": "code",
   "execution_count": null,
   "metadata": {
    "colab": {
     "base_uri": "https://localhost:8080/"
    },
    "execution": {
     "iopub.execute_input": "2022-03-21T18:18:39.997526Z",
     "iopub.status.busy": "2022-03-21T18:18:39.997328Z",
     "iopub.status.idle": "2022-03-21T18:18:40.266138Z",
     "shell.execute_reply": "2022-03-21T18:18:40.26511Z",
     "shell.execute_reply.started": "2022-03-21T18:18:39.997503Z"
    },
    "id": "LTgTDrFB4xTA",
    "outputId": "b4788b74-bc36-4466-e58d-574e2dca3b66"
   },
   "outputs": [],
   "source": [
    "empty_cols = [col for col in df.columns if df[col].isnull().all()]\n",
    "empty_cols"
   ]
  },
  {
   "cell_type": "code",
   "execution_count": null,
   "metadata": {
    "execution": {
     "iopub.execute_input": "2022-03-21T18:18:51.324884Z",
     "iopub.status.busy": "2022-03-21T18:18:51.32419Z",
     "iopub.status.idle": "2022-03-21T18:18:51.329196Z",
     "shell.execute_reply": "2022-03-21T18:18:51.328364Z",
     "shell.execute_reply.started": "2022-03-21T18:18:51.324836Z"
    },
    "id": "49M_eI3Q4xTB"
   },
   "outputs": [],
   "source": [
    "skip_list = [\"icmp.unused\", \"http.tls_port\", \"dns.qry.type\", \"mqtt.msg_decoded_as\"]"
   ]
  },
  {
   "cell_type": "code",
   "execution_count": null,
   "metadata": {
    "colab": {
     "base_uri": "https://localhost:8080/"
    },
    "execution": {
     "iopub.execute_input": "2022-03-21T18:18:52.501899Z",
     "iopub.status.busy": "2022-03-21T18:18:52.501243Z",
     "iopub.status.idle": "2022-03-21T18:18:52.52275Z",
     "shell.execute_reply": "2022-03-21T18:18:52.521799Z",
     "shell.execute_reply.started": "2022-03-21T18:18:52.501858Z"
    },
    "id": "4aDd_z1N4xTC",
    "outputId": "091c30bf-5570-49bc-cb5b-d38aa261f000"
   },
   "outputs": [],
   "source": [
    "df[skip_list[3]].value_counts()"
   ]
  },
  {
   "cell_type": "code",
   "execution_count": null,
   "metadata": {
    "colab": {
     "base_uri": "https://localhost:8080/"
    },
    "execution": {
     "iopub.execute_input": "2022-03-21T18:18:53.102882Z",
     "iopub.status.busy": "2022-03-21T18:18:53.102372Z",
     "iopub.status.idle": "2022-03-21T18:18:53.524471Z",
     "shell.execute_reply": "2022-03-21T18:18:53.523753Z",
     "shell.execute_reply.started": "2022-03-21T18:18:53.102839Z"
    },
    "id": "hQEfTccR4xTC",
    "outputId": "778d0034-0aab-4f82-da62-9a0462ced5d8"
   },
   "outputs": [],
   "source": [
    "df.drop(skip_list, axis=1, inplace=True)\n",
    "feat_cols = list(df.columns)\n",
    "feat_cols.remove(label_col)\n",
    "feat_cols"
   ]
  },
  {
   "cell_type": "markdown",
   "metadata": {
    "id": "HaWdYUo24xTG"
   },
   "source": [
    "# Rest of visualization will be on test set\n",
    "### because it takes much time on the whole dataset"
   ]
  },
  {
   "cell_type": "code",
   "execution_count": null,
   "metadata": {
    "execution": {
     "iopub.execute_input": "2022-03-21T18:19:05.276358Z",
     "iopub.status.busy": "2022-03-21T18:19:05.276097Z",
     "iopub.status.idle": "2022-03-21T18:19:05.67217Z",
     "shell.execute_reply": "2022-03-21T18:19:05.670875Z",
     "shell.execute_reply.started": "2022-03-21T18:19:05.276328Z"
    },
    "id": "nD0jhXDE4xTJ"
   },
   "outputs": [],
   "source": [
    "X = df.drop([label_col], axis=1)\n",
    "y = df[label_col]\n",
    "\n",
    "del df"
   ]
  },
  {
   "cell_type": "code",
   "execution_count": null,
   "metadata": {
    "colab": {
     "base_uri": "https://localhost:8080/"
    },
    "id": "f7GHsXCX_IFS",
    "outputId": "85971a29-2ad5-48a8-c107-50c3ad1ad4c9"
   },
   "outputs": [],
   "source": [
    "print(y.shape)"
   ]
  },
  {
   "cell_type": "code",
   "execution_count": null,
   "metadata": {
    "execution": {
     "iopub.execute_input": "2022-03-21T18:19:06.748091Z",
     "iopub.status.busy": "2022-03-21T18:19:06.747553Z",
     "iopub.status.idle": "2022-03-21T18:19:11.506938Z",
     "shell.execute_reply": "2022-03-21T18:19:11.506034Z",
     "shell.execute_reply.started": "2022-03-21T18:19:06.748054Z"
    },
    "id": "not-IY614xTK"
   },
   "outputs": [],
   "source": [
    "from sklearn.model_selection import train_test_split\n",
    "\n",
    "X_train, X_test, y_train, y_test = train_test_split(X, y, test_size=0.2, random_state=1, stratify=y)\n",
    "\n",
    "del X\n",
    "del y"
   ]
  },
  {
   "cell_type": "code",
   "execution_count": null,
   "metadata": {
    "colab": {
     "base_uri": "https://localhost:8080/"
    },
    "execution": {
     "iopub.execute_input": "2022-03-21T18:19:11.513713Z",
     "iopub.status.busy": "2022-03-21T18:19:11.511522Z",
     "iopub.status.idle": "2022-03-21T18:19:11.518444Z",
     "shell.execute_reply": "2022-03-21T18:19:11.517777Z",
     "shell.execute_reply.started": "2022-03-21T18:19:11.51367Z"
    },
    "id": "DCn3ND9X4xTL",
    "outputId": "95babff0-5209-4afc-80b1-381631d41116"
   },
   "outputs": [],
   "source": [
    "print(X_train.shape)"
   ]
  },
  {
   "cell_type": "code",
   "execution_count": null,
   "metadata": {
    "execution": {
     "iopub.execute_input": "2022-03-21T18:19:11.523276Z",
     "iopub.status.busy": "2022-03-21T18:19:11.522764Z",
     "iopub.status.idle": "2022-03-21T18:19:12.187736Z",
     "shell.execute_reply": "2022-03-21T18:19:12.187015Z",
     "shell.execute_reply.started": "2022-03-21T18:19:11.52324Z"
    },
    "id": "pIMv1OzU4xTM"
   },
   "outputs": [],
   "source": [
    "from sklearn.preprocessing import LabelEncoder\n",
    "\n",
    "\n",
    "label_encoder = LabelEncoder()\n",
    "y_train =  label_encoder.fit_transform(y_train)\n",
    "y_test = label_encoder.transform(y_test)"
   ]
  },
  {
   "cell_type": "code",
   "execution_count": null,
   "metadata": {
    "colab": {
     "base_uri": "https://localhost:8080/"
    },
    "id": "kmSlR32eAWZO",
    "outputId": "5848ec67-7f18-44e5-a856-285dfa576a57"
   },
   "outputs": [],
   "source": [
    "print(y_train.shape)"
   ]
  },
  {
   "cell_type": "code",
   "execution_count": null,
   "metadata": {
    "colab": {
     "base_uri": "https://localhost:8080/"
    },
    "execution": {
     "iopub.execute_input": "2022-03-21T18:19:12.584317Z",
     "iopub.status.busy": "2022-03-21T18:19:12.583758Z",
     "iopub.status.idle": "2022-03-21T18:19:12.590693Z",
     "shell.execute_reply": "2022-03-21T18:19:12.589764Z",
     "shell.execute_reply.started": "2022-03-21T18:19:12.584281Z"
    },
    "id": "l68RLaht4xTN",
    "outputId": "afe51a39-4a36-4654-e18c-e847fc2311f5"
   },
   "outputs": [],
   "source": [
    "label_encoder.classes_"
   ]
  },
  {
   "cell_type": "code",
   "execution_count": null,
   "metadata": {
    "id": "Wwlko7jBBrRB"
   },
   "outputs": [],
   "source": [
    "from sklearn.ensemble import RandomForestClassifier"
   ]
  },
  {
   "cell_type": "code",
   "execution_count": null,
   "metadata": {
    "colab": {
     "base_uri": "https://localhost:8080/"
    },
    "id": "LGE-sM8oBhmA",
    "outputId": "1e49dfbc-0f62-47d1-a31c-8c3170f165fe"
   },
   "outputs": [],
   "source": [
    "model = RandomForestClassifier(77, n_jobs=-1, random_state=7)\n",
    "model.fit(X_train, y_train)\n",
    "print (\"model score \", model.score(X_test, y_test))"
   ]
  },
  {
   "cell_type": "code",
   "execution_count": null,
   "metadata": {
    "execution": {
     "iopub.execute_input": "2022-03-21T18:28:11.35953Z",
     "iopub.status.busy": "2022-03-21T18:28:11.358756Z",
     "iopub.status.idle": "2022-03-21T18:28:11.369947Z",
     "shell.execute_reply": "2022-03-21T18:28:11.369183Z",
     "shell.execute_reply.started": "2022-03-21T18:28:11.35949Z"
    },
    "id": "HroyLPSI4xTb"
   },
   "outputs": [],
   "source": [
    "from sklearn.metrics import accuracy_score, precision_recall_fscore_support,confusion_matrix, classification_report, precision_score, recall_score\n",
    "from sklearn.metrics import f1_score as f1_score_rep\n",
    "import seaborn as sn\n",
    "\n",
    "def print_score(y_pred, y_real, label_encoder):\n",
    "    print(\"Accuracy: \", accuracy_score(y_real, y_pred))\n",
    "    print(\"Precision:: \", precision_score(y_real, y_pred, average=\"micro\"))\n",
    "    print(\"Recall:: \", recall_score(y_real, y_pred, average=\"micro\"))\n",
    "    print(\"F1_Score:: \", f1_score_rep(y_real, y_pred, average=\"micro\"))\n",
    "\n",
    "    print()\n",
    "    print(\"Macro precision_recall_fscore_support (macro) average\")\n",
    "    print(precision_recall_fscore_support(y_real, y_pred, average=\"macro\"))\n",
    "\n",
    "    print()\n",
    "    print(\"Macro precision_recall_fscore_support (micro) average\")\n",
    "    print(precision_recall_fscore_support(y_real, y_pred, average=\"micro\"))\n",
    "\n",
    "    print()\n",
    "    print(\"Macro precision_recall_fscore_support (weighted) average\")\n",
    "    print(precision_recall_fscore_support(y_real, y_pred, average=\"weighted\"))\n",
    "    \n",
    "    print()\n",
    "    print(\"Confusion Matrix\")\n",
    "    cm = confusion_matrix(y_real, y_pred)\n",
    "    cm = cm.astype('float') / cm.sum(axis=1)[:, np.newaxis]\n",
    "    df_cm = pd.DataFrame(cm, index = [i for i in label_encoder.classes_],\n",
    "                  columns = [i for i in label_encoder.classes_])\n",
    "    plt.figure(figsize = (10,7))\n",
    "    sn.heatmap(df_cm, annot=True)\n",
    "\n",
    "    print()\n",
    "    print(\"Classification Report\")\n",
    "    print(classification_report(y_real, y_pred, target_names=label_encoder.classes_))"
   ]
  },
  {
   "cell_type": "code",
   "execution_count": null,
   "metadata": {
    "colab": {
     "base_uri": "https://localhost:8080/"
    },
    "execution": {
     "iopub.execute_input": "2022-03-21T18:20:28.088888Z",
     "iopub.status.busy": "2022-03-21T18:20:28.088428Z",
     "iopub.status.idle": "2022-03-21T18:20:37.646381Z",
     "shell.execute_reply": "2022-03-21T18:20:37.645487Z",
     "shell.execute_reply.started": "2022-03-21T18:20:28.088851Z"
    },
    "id": "8BI-0C6q4xTb",
    "outputId": "68e86a05-8e85-4ec8-8657-7ffe8b91ad81"
   },
   "outputs": [],
   "source": [
    "# !pip install livelossplot"
   ]
  },
  {
   "cell_type": "code",
   "execution_count": null,
   "metadata": {
    "colab": {
     "base_uri": "https://localhost:8080/"
    },
    "execution": {
     "iopub.execute_input": "2022-03-21T18:20:41.418307Z",
     "iopub.status.busy": "2022-03-21T18:20:41.417931Z",
     "iopub.status.idle": "2022-03-21T18:20:41.423732Z",
     "shell.execute_reply": "2022-03-21T18:20:41.42302Z",
     "shell.execute_reply.started": "2022-03-21T18:20:41.418268Z"
    },
    "id": "_vizLMbu4xTi",
    "outputId": "4838ed1a-dbb5-4504-8d4a-2fc36b2d9f5f"
   },
   "outputs": [],
   "source": [
    "print(y_train.shape)"
   ]
  },
  {
   "cell_type": "code",
   "execution_count": null,
   "metadata": {
    "colab": {
     "base_uri": "https://localhost:8080/"
    },
    "execution": {
     "iopub.execute_input": "2022-03-21T18:20:56.873344Z",
     "iopub.status.busy": "2022-03-21T18:20:56.872968Z",
     "iopub.status.idle": "2022-03-21T18:21:19.327674Z",
     "shell.execute_reply": "2022-03-21T18:21:19.326834Z",
     "shell.execute_reply.started": "2022-03-21T18:20:56.873296Z"
    },
    "id": "GzyKfY4d4xTi",
    "outputId": "391cdd26-0373-4f5c-e96b-612fdf0dc2a9"
   },
   "outputs": [],
   "source": [
    "# !pip install gdown"
   ]
  },
  {
   "cell_type": "markdown",
   "metadata": {
    "id": "CvSSfdAj4xTl"
   },
   "source": [
    "# Validation Results"
   ]
  },
  {
   "cell_type": "code",
   "execution_count": null,
   "metadata": {
    "id": "2r9Z9Q_CasIm"
   },
   "outputs": [],
   "source": [
    "num_classes = len(np.unique(y_train))\n",
    "num_classes\n",
    "\n",
    "from  tensorflow.keras.utils import to_categorical \n",
    "\n",
    "y_train = to_categorical(y_train, num_classes=num_classes)\n",
    "y_test = to_categorical(y_test, num_classes=num_classes)"
   ]
  },
  {
   "cell_type": "code",
   "execution_count": null,
   "metadata": {
    "execution": {
     "iopub.execute_input": "2022-03-21T18:21:24.832479Z",
     "iopub.status.busy": "2022-03-21T18:21:24.832081Z",
     "iopub.status.idle": "2022-03-21T18:23:52.353777Z",
     "shell.execute_reply": "2022-03-21T18:23:52.35289Z",
     "shell.execute_reply.started": "2022-03-21T18:21:24.832443Z"
    },
    "id": "kDyFTBfA4xTl"
   },
   "outputs": [],
   "source": [
    "y_hat = model.predict(X_test)"
   ]
  },
  {
   "cell_type": "code",
   "execution_count": null,
   "metadata": {
    "colab": {
     "base_uri": "https://localhost:8080/"
    },
    "id": "FAJxQvokDFeZ",
    "outputId": "1c48b23e-7356-42a3-8e9d-20b9699ffc69"
   },
   "outputs": [],
   "source": [
    "print(y_hat.shape)"
   ]
  },
  {
   "cell_type": "code",
   "execution_count": null,
   "metadata": {
    "execution": {
     "iopub.execute_input": "2022-03-21T18:23:52.355706Z",
     "iopub.status.busy": "2022-03-21T18:23:52.355429Z",
     "iopub.status.idle": "2022-03-21T18:23:52.380041Z",
     "shell.execute_reply": "2022-03-21T18:23:52.37918Z",
     "shell.execute_reply.started": "2022-03-21T18:23:52.355668Z"
    },
    "id": "cuM-x30D4xTm"
   },
   "outputs": [],
   "source": [
    "y_hat = np.argmax(y_hat, axis=0)\n",
    "y_true = np.argmax(y_test, axis=0)"
   ]
  },
  {
   "cell_type": "code",
   "execution_count": null,
   "metadata": {
    "colab": {
     "base_uri": "https://localhost:8080/",
     "height": 304
    },
    "execution": {
     "iopub.execute_input": "2022-03-21T18:26:44.154532Z",
     "iopub.status.busy": "2022-03-21T18:26:44.153745Z",
     "iopub.status.idle": "2022-03-21T18:26:44.168464Z",
     "shell.execute_reply": "2022-03-21T18:26:44.167648Z",
     "shell.execute_reply.started": "2022-03-21T18:26:44.154485Z"
    },
    "id": "e7UMzgLr4xTm",
    "outputId": "ec4a8bd5-dacc-442c-8b3a-9348b26e109b"
   },
   "outputs": [],
   "source": [
    "y_true_ohe = to_categorical(y_true, num_classes=df['Attack_type'].nunique())\n",
    "y_hat_ohe =  to_categorical(y_hat, num_classes=df['Attack_type'].nunique())"
   ]
  },
  {
   "cell_type": "code",
   "execution_count": null,
   "metadata": {
    "id": "AhGTZshk4xTn"
   },
   "outputs": [],
   "source": []
  },
  {
   "cell_type": "code",
   "execution_count": null,
   "metadata": {
    "execution": {
     "iopub.execute_input": "2022-03-21T18:26:52.018207Z",
     "iopub.status.busy": "2022-03-21T18:26:52.017528Z",
     "iopub.status.idle": "2022-03-21T18:26:53.867943Z",
     "shell.execute_reply": "2022-03-21T18:26:53.866799Z",
     "shell.execute_reply.started": "2022-03-21T18:26:52.018165Z"
    },
    "id": "Q0u2nprJ4xTn"
   },
   "outputs": [],
   "source": [
    "ROC_plot(y_true_ohe, y_hat_ohe, label_encoder, num_classes)"
   ]
  },
  {
   "cell_type": "code",
   "execution_count": null,
   "metadata": {
    "execution": {
     "iopub.execute_input": "2022-03-21T18:28:16.306524Z",
     "iopub.status.busy": "2022-03-21T18:28:16.305943Z",
     "iopub.status.idle": "2022-03-21T18:28:18.687389Z",
     "shell.execute_reply": "2022-03-21T18:28:18.686709Z",
     "shell.execute_reply.started": "2022-03-21T18:28:16.306482Z"
    },
    "id": "IfkPh0zh4xTo"
   },
   "outputs": [],
   "source": [
    "print_score(y_hat, y_true, label_encoder)"
   ]
  },
  {
   "cell_type": "code",
   "execution_count": null,
   "metadata": {
    "id": "yZy36vVJ4xTo"
   },
   "outputs": [],
   "source": []
  }
 ],
 "metadata": {
  "accelerator": "GPU",
  "colab": {
   "machine_shape": "hm",
   "provenance": []
  },
  "gpuClass": "standard",
  "kernelspec": {
   "display_name": "Python 3 (ipykernel)",
   "language": "python",
   "name": "python3"
  },
  "language_info": {
   "codemirror_mode": {
    "name": "ipython",
    "version": 3
   },
   "file_extension": ".py",
   "mimetype": "text/x-python",
   "name": "python",
   "nbconvert_exporter": "python",
   "pygments_lexer": "ipython3",
   "version": "3.7.15"
  }
 },
 "nbformat": 4,
 "nbformat_minor": 1
}
